{
 "cells": [
  {
   "cell_type": "code",
   "execution_count": 1,
   "id": "5c226604",
   "metadata": {
    "_cell_guid": "b1076dfc-b9ad-4769-8c92-a6c4dae69d19",
    "_uuid": "8f2839f25d086af736a60e9eeb907d3b93b6e0e5",
    "execution": {
     "iopub.execute_input": "2023-04-25T15:40:41.676800Z",
     "iopub.status.busy": "2023-04-25T15:40:41.676340Z",
     "iopub.status.idle": "2023-04-25T15:40:42.824381Z",
     "shell.execute_reply": "2023-04-25T15:40:42.822933Z"
    },
    "papermill": {
     "duration": 1.161001,
     "end_time": "2023-04-25T15:40:42.827300",
     "exception": false,
     "start_time": "2023-04-25T15:40:41.666299",
     "status": "completed"
    },
    "tags": []
   },
   "outputs": [
    {
     "name": "stdout",
     "output_type": "stream",
     "text": [
      "/kaggle/input/spaceship-titanic/sample_submission.csv\n",
      "/kaggle/input/spaceship-titanic/train.csv\n",
      "/kaggle/input/spaceship-titanic/test.csv\n"
     ]
    }
   ],
   "source": [
    "# This Python 3 environment comes with many helpful analytics libraries installed\n",
    "# It is defined by the kaggle/python Docker image: https://github.com/kaggle/docker-python\n",
    "# For example, here's several helpful packages to load\n",
    "\n",
    "import numpy as np # linear algebra\n",
    "import pandas as pd # data processing, CSV file I/O (e.g. pd.read_csv)\n",
    "import matplotlib.pyplot as plt\n",
    "import seaborn as sns\n",
    "\n",
    "# Input data files are available in the read-only \"../input/\" directory\n",
    "# For example, running this (by clicking run or pressing Shift+Enter) will list all files under the input directory\n",
    "\n",
    "import os\n",
    "for dirname, _, filenames in os.walk('/kaggle/input'):\n",
    "    for filename in filenames:\n",
    "        print(os.path.join(dirname, filename))\n",
    "\n",
    "# You can write up to 20GB to the current directory (/kaggle/working/) that gets preserved as output when you create a version using \"Save & Run All\" \n",
    "# You can also write temporary files to /kaggle/temp/, but they won't be saved outside of the current session"
   ]
  },
  {
   "cell_type": "markdown",
   "id": "66d7ea0a",
   "metadata": {
    "papermill": {
     "duration": 0.003509,
     "end_time": "2023-04-25T15:40:42.834844",
     "exception": false,
     "start_time": "2023-04-25T15:40:42.831335",
     "status": "completed"
    },
    "tags": []
   },
   "source": [
    "## Load the Data and View the columns\n",
    "Begin to read the data into memory"
   ]
  },
  {
   "cell_type": "code",
   "execution_count": 2,
   "id": "8033bef0",
   "metadata": {
    "execution": {
     "iopub.execute_input": "2023-04-25T15:40:42.844170Z",
     "iopub.status.busy": "2023-04-25T15:40:42.843744Z",
     "iopub.status.idle": "2023-04-25T15:40:42.935888Z",
     "shell.execute_reply": "2023-04-25T15:40:42.934748Z"
    },
    "papermill": {
     "duration": 0.099877,
     "end_time": "2023-04-25T15:40:42.938391",
     "exception": false,
     "start_time": "2023-04-25T15:40:42.838514",
     "status": "completed"
    },
    "tags": []
   },
   "outputs": [
    {
     "data": {
      "text/plain": [
       "(8693, 14)"
      ]
     },
     "execution_count": 2,
     "metadata": {},
     "output_type": "execute_result"
    }
   ],
   "source": [
    "train = pd.read_csv(\"/kaggle/input/spaceship-titanic/train.csv\")\n",
    "test = pd.read_csv(\"/kaggle/input/spaceship-titanic/test.csv\")\n",
    "\n",
    "train.shape"
   ]
  },
  {
   "cell_type": "code",
   "execution_count": 3,
   "id": "4da0db18",
   "metadata": {
    "execution": {
     "iopub.execute_input": "2023-04-25T15:40:42.948119Z",
     "iopub.status.busy": "2023-04-25T15:40:42.947684Z",
     "iopub.status.idle": "2023-04-25T15:40:42.978052Z",
     "shell.execute_reply": "2023-04-25T15:40:42.976930Z"
    },
    "papermill": {
     "duration": 0.038186,
     "end_time": "2023-04-25T15:40:42.980640",
     "exception": false,
     "start_time": "2023-04-25T15:40:42.942454",
     "status": "completed"
    },
    "tags": []
   },
   "outputs": [
    {
     "data": {
      "text/html": [
       "<div>\n",
       "<style scoped>\n",
       "    .dataframe tbody tr th:only-of-type {\n",
       "        vertical-align: middle;\n",
       "    }\n",
       "\n",
       "    .dataframe tbody tr th {\n",
       "        vertical-align: top;\n",
       "    }\n",
       "\n",
       "    .dataframe thead th {\n",
       "        text-align: right;\n",
       "    }\n",
       "</style>\n",
       "<table border=\"1\" class=\"dataframe\">\n",
       "  <thead>\n",
       "    <tr style=\"text-align: right;\">\n",
       "      <th></th>\n",
       "      <th>PassengerId</th>\n",
       "      <th>HomePlanet</th>\n",
       "      <th>CryoSleep</th>\n",
       "      <th>Cabin</th>\n",
       "      <th>Destination</th>\n",
       "      <th>Age</th>\n",
       "      <th>VIP</th>\n",
       "      <th>RoomService</th>\n",
       "      <th>FoodCourt</th>\n",
       "      <th>ShoppingMall</th>\n",
       "      <th>Spa</th>\n",
       "      <th>VRDeck</th>\n",
       "      <th>Name</th>\n",
       "      <th>Transported</th>\n",
       "    </tr>\n",
       "  </thead>\n",
       "  <tbody>\n",
       "    <tr>\n",
       "      <th>0</th>\n",
       "      <td>0001_01</td>\n",
       "      <td>Europa</td>\n",
       "      <td>False</td>\n",
       "      <td>B/0/P</td>\n",
       "      <td>TRAPPIST-1e</td>\n",
       "      <td>39.0</td>\n",
       "      <td>False</td>\n",
       "      <td>0.0</td>\n",
       "      <td>0.0</td>\n",
       "      <td>0.0</td>\n",
       "      <td>0.0</td>\n",
       "      <td>0.0</td>\n",
       "      <td>Maham Ofracculy</td>\n",
       "      <td>False</td>\n",
       "    </tr>\n",
       "    <tr>\n",
       "      <th>1</th>\n",
       "      <td>0002_01</td>\n",
       "      <td>Earth</td>\n",
       "      <td>False</td>\n",
       "      <td>F/0/S</td>\n",
       "      <td>TRAPPIST-1e</td>\n",
       "      <td>24.0</td>\n",
       "      <td>False</td>\n",
       "      <td>109.0</td>\n",
       "      <td>9.0</td>\n",
       "      <td>25.0</td>\n",
       "      <td>549.0</td>\n",
       "      <td>44.0</td>\n",
       "      <td>Juanna Vines</td>\n",
       "      <td>True</td>\n",
       "    </tr>\n",
       "    <tr>\n",
       "      <th>2</th>\n",
       "      <td>0003_01</td>\n",
       "      <td>Europa</td>\n",
       "      <td>False</td>\n",
       "      <td>A/0/S</td>\n",
       "      <td>TRAPPIST-1e</td>\n",
       "      <td>58.0</td>\n",
       "      <td>True</td>\n",
       "      <td>43.0</td>\n",
       "      <td>3576.0</td>\n",
       "      <td>0.0</td>\n",
       "      <td>6715.0</td>\n",
       "      <td>49.0</td>\n",
       "      <td>Altark Susent</td>\n",
       "      <td>False</td>\n",
       "    </tr>\n",
       "    <tr>\n",
       "      <th>3</th>\n",
       "      <td>0003_02</td>\n",
       "      <td>Europa</td>\n",
       "      <td>False</td>\n",
       "      <td>A/0/S</td>\n",
       "      <td>TRAPPIST-1e</td>\n",
       "      <td>33.0</td>\n",
       "      <td>False</td>\n",
       "      <td>0.0</td>\n",
       "      <td>1283.0</td>\n",
       "      <td>371.0</td>\n",
       "      <td>3329.0</td>\n",
       "      <td>193.0</td>\n",
       "      <td>Solam Susent</td>\n",
       "      <td>False</td>\n",
       "    </tr>\n",
       "    <tr>\n",
       "      <th>4</th>\n",
       "      <td>0004_01</td>\n",
       "      <td>Earth</td>\n",
       "      <td>False</td>\n",
       "      <td>F/1/S</td>\n",
       "      <td>TRAPPIST-1e</td>\n",
       "      <td>16.0</td>\n",
       "      <td>False</td>\n",
       "      <td>303.0</td>\n",
       "      <td>70.0</td>\n",
       "      <td>151.0</td>\n",
       "      <td>565.0</td>\n",
       "      <td>2.0</td>\n",
       "      <td>Willy Santantines</td>\n",
       "      <td>True</td>\n",
       "    </tr>\n",
       "  </tbody>\n",
       "</table>\n",
       "</div>"
      ],
      "text/plain": [
       "  PassengerId HomePlanet CryoSleep  Cabin  Destination   Age    VIP  \\\n",
       "0     0001_01     Europa     False  B/0/P  TRAPPIST-1e  39.0  False   \n",
       "1     0002_01      Earth     False  F/0/S  TRAPPIST-1e  24.0  False   \n",
       "2     0003_01     Europa     False  A/0/S  TRAPPIST-1e  58.0   True   \n",
       "3     0003_02     Europa     False  A/0/S  TRAPPIST-1e  33.0  False   \n",
       "4     0004_01      Earth     False  F/1/S  TRAPPIST-1e  16.0  False   \n",
       "\n",
       "   RoomService  FoodCourt  ShoppingMall     Spa  VRDeck               Name  \\\n",
       "0          0.0        0.0           0.0     0.0     0.0    Maham Ofracculy   \n",
       "1        109.0        9.0          25.0   549.0    44.0       Juanna Vines   \n",
       "2         43.0     3576.0           0.0  6715.0    49.0      Altark Susent   \n",
       "3          0.0     1283.0         371.0  3329.0   193.0       Solam Susent   \n",
       "4        303.0       70.0         151.0   565.0     2.0  Willy Santantines   \n",
       "\n",
       "   Transported  \n",
       "0        False  \n",
       "1         True  \n",
       "2        False  \n",
       "3        False  \n",
       "4         True  "
      ]
     },
     "execution_count": 3,
     "metadata": {},
     "output_type": "execute_result"
    }
   ],
   "source": [
    "train.head()"
   ]
  },
  {
   "cell_type": "code",
   "execution_count": 4,
   "id": "f3781053",
   "metadata": {
    "execution": {
     "iopub.execute_input": "2023-04-25T15:40:42.990841Z",
     "iopub.status.busy": "2023-04-25T15:40:42.990415Z",
     "iopub.status.idle": "2023-04-25T15:40:43.618360Z",
     "shell.execute_reply": "2023-04-25T15:40:43.617079Z"
    },
    "papermill": {
     "duration": 0.636017,
     "end_time": "2023-04-25T15:40:43.621064",
     "exception": false,
     "start_time": "2023-04-25T15:40:42.985047",
     "status": "completed"
    },
    "tags": []
   },
   "outputs": [
    {
     "data": {
      "text/plain": [
       "<AxesSubplot:>"
      ]
     },
     "execution_count": 4,
     "metadata": {},
     "output_type": "execute_result"
    },
    {
     "data": {
      "image/png": "[encoded data removed]",
      "text/plain": [
       "<Figure size 800x400 with 2 Axes>"
      ]
     },
     "metadata": {},
     "output_type": "display_data"
    }
   ],
   "source": [
    "correlation = train.corr()\n",
    "plt.figure(figsize=(8, 4))\n",
    "sns.heatmap(correlation, annot=True) "
   ]
  },
  {
   "cell_type": "code",
   "execution_count": 5,
   "id": "e6ff6e79",
   "metadata": {
    "execution": {
     "iopub.execute_input": "2023-04-25T15:40:43.633535Z",
     "iopub.status.busy": "2023-04-25T15:40:43.633155Z",
     "iopub.status.idle": "2023-04-25T15:41:16.310158Z",
     "shell.execute_reply": "2023-04-25T15:41:16.308672Z"
    },
    "papermill": {
     "duration": 32.686585,
     "end_time": "2023-04-25T15:41:16.313346",
     "exception": false,
     "start_time": "2023-04-25T15:40:43.626761",
     "status": "completed"
    },
    "tags": []
   },
   "outputs": [
    {
     "name": "stdout",
     "output_type": "stream",
     "text": [
      "/bin/bash: /opt/conda/lib/libtinfo.so.6: no version information available (required by /bin/bash)\r\n",
      "Requirement already satisfied: scikit-learn in /opt/conda/lib/python3.7/site-packages (1.0.2)\r\n",
      "Requirement already satisfied: joblib>=0.11 in /opt/conda/lib/python3.7/site-packages (from scikit-learn) (1.0.1)\r\n",
      "Requirement already satisfied: scipy>=1.1.0 in /opt/conda/lib/python3.7/site-packages (from scikit-learn) (1.7.3)\r\n",
      "Requirement already satisfied: threadpoolctl>=2.0.0 in /opt/conda/lib/python3.7/site-packages (from scikit-learn) (3.1.0)\r\n",
      "Requirement already satisfied: numpy>=1.14.6 in /opt/conda/lib/python3.7/site-packages (from scikit-learn) (1.21.6)\r\n",
      "\u001b[33mWARNING: Running pip as the 'root' user can result in broken permissions and conflicting behaviour with the system package manager. It is recommended to use a virtual environment instead: https://pip.pypa.io/warnings/venv\u001b[0m\u001b[33m\r\n",
      "\u001b[0m\u001b[33mWARNING: There was an error checking the latest version of pip.\u001b[0m\u001b[33m\r\n",
      "\u001b[0m"
     ]
    }
   ],
   "source": [
    "!pip install scikit-learn"
   ]
  },
  {
   "cell_type": "markdown",
   "id": "95ed9af0",
   "metadata": {
    "papermill": {
     "duration": 0.005506,
     "end_time": "2023-04-25T15:41:16.324518",
     "exception": false,
     "start_time": "2023-04-25T15:41:16.319012",
     "status": "completed"
    },
    "tags": []
   },
   "source": [
    "## Preprocessing\n",
    "We can drop the following columns. Cabin has over 6000 different labels and the passenger names are not relevant to the prediction."
   ]
  },
  {
   "cell_type": "code",
   "execution_count": 6,
   "id": "79f7aff3",
   "metadata": {
    "execution": {
     "iopub.execute_input": "2023-04-25T15:41:16.338325Z",
     "iopub.status.busy": "2023-04-25T15:41:16.337633Z",
     "iopub.status.idle": "2023-04-25T15:41:16.355730Z",
     "shell.execute_reply": "2023-04-25T15:41:16.354520Z"
    },
    "papermill": {
     "duration": 0.028514,
     "end_time": "2023-04-25T15:41:16.358588",
     "exception": false,
     "start_time": "2023-04-25T15:41:16.330074",
     "status": "completed"
    },
    "tags": []
   },
   "outputs": [],
   "source": [
    "train.drop(['Cabin', 'Name'], axis=1, inplace=True)\n",
    "test.drop(['Cabin', 'Name'], axis=1, inplace=True)"
   ]
  },
  {
   "cell_type": "code",
   "execution_count": 7,
   "id": "2df8b95f",
   "metadata": {
    "execution": {
     "iopub.execute_input": "2023-04-25T15:41:16.371518Z",
     "iopub.status.busy": "2023-04-25T15:41:16.371131Z",
     "iopub.status.idle": "2023-04-25T15:41:16.546148Z",
     "shell.execute_reply": "2023-04-25T15:41:16.544973Z"
    },
    "papermill": {
     "duration": 0.184686,
     "end_time": "2023-04-25T15:41:16.548983",
     "exception": false,
     "start_time": "2023-04-25T15:41:16.364297",
     "status": "completed"
    },
    "tags": []
   },
   "outputs": [],
   "source": [
    "from sklearn.compose import ColumnTransformer\n",
    "from sklearn.preprocessing import OneHotEncoder, LabelEncoder\n",
    "\n",
    "def encode_data(data, predict_col=True):\n",
    "    new_data = data.copy(deep=True)\n",
    "    le = LabelEncoder()\n",
    "    new_data['CryoSleep'] = le.fit_transform(new_data['CryoSleep'])\n",
    "    new_data['VIP'] = le.fit_transform(new_data['VIP'])\n",
    "\n",
    "    if predict_col:\n",
    "        new_data['Transported'] = le.fit_transform(new_data['Transported'])\n",
    "\n",
    "    # for column_idx in [1, 3]:\n",
    "    ct = ColumnTransformer(transformers=[('encoder', OneHotEncoder(), [1, 3])], remainder='passthrough')\n",
    "    new_data = np.array(ct.fit_transform(new_data))\n",
    "    return pd.DataFrame(new_data).fillna(0)"
   ]
  },
  {
   "cell_type": "markdown",
   "id": "038637a2",
   "metadata": {
    "papermill": {
     "duration": 0.005297,
     "end_time": "2023-04-25T15:41:16.559958",
     "exception": false,
     "start_time": "2023-04-25T15:41:16.554661",
     "status": "completed"
    },
    "tags": []
   },
   "source": [
    "# Classification\n",
    "\n",
    "We'll use a simple RandomForestClassifier after we have preprocessed all of the data."
   ]
  },
  {
   "cell_type": "code",
   "execution_count": 8,
   "id": "18d6dbc0",
   "metadata": {
    "execution": {
     "iopub.execute_input": "2023-04-25T15:41:16.573246Z",
     "iopub.status.busy": "2023-04-25T15:41:16.572535Z",
     "iopub.status.idle": "2023-04-25T15:41:18.382851Z",
     "shell.execute_reply": "2023-04-25T15:41:18.381734Z"
    },
    "papermill": {
     "duration": 1.819941,
     "end_time": "2023-04-25T15:41:18.385473",
     "exception": false,
     "start_time": "2023-04-25T15:41:16.565532",
     "status": "completed"
    },
    "tags": []
   },
   "outputs": [],
   "source": [
    "from sklearn.ensemble import RandomForestClassifier\n",
    "\n",
    "clf = RandomForestClassifier()\n",
    "\n",
    "train_new = encode_data(train)\n",
    "x_train, y_train = train_new.iloc[:, :-1].astype(float), train_new.iloc[:, -1].astype(float)\n",
    "x_test = encode_data(test, False).astype(float)\n",
    "\n",
    "clf.fit(x_train, y_train)\n",
    "y_pred = clf.predict(x_test)"
   ]
  },
  {
   "cell_type": "code",
   "execution_count": 9,
   "id": "11d94a56",
   "metadata": {
    "execution": {
     "iopub.execute_input": "2023-04-25T15:41:18.398819Z",
     "iopub.status.busy": "2023-04-25T15:41:18.398436Z",
     "iopub.status.idle": "2023-04-25T15:41:18.417839Z",
     "shell.execute_reply": "2023-04-25T15:41:18.416936Z"
    },
    "papermill": {
     "duration": 0.029016,
     "end_time": "2023-04-25T15:41:18.420332",
     "exception": false,
     "start_time": "2023-04-25T15:41:18.391316",
     "status": "completed"
    },
    "tags": []
   },
   "outputs": [],
   "source": [
    "test['Transported'] = y_pred\n",
    "result = test[['PassengerId', 'Transported']].copy()\n",
    "\n",
    "true_mask = result['Transported'] == 1.0\n",
    "\n",
    "result.loc[true_mask, 'Transported'] = 'True'\n",
    "result.loc[~true_mask, 'Transported'] = 'False'\n",
    "\n",
    "result.to_csv(\"/kaggle/working/submission.csv\", index=False, columns=['PassengerId', 'Transported'])"
   ]
  }
 ],
 "metadata": {
  "kernelspec": {
   "display_name": "Python 3",
   "language": "python",
   "name": "python3"
  },
  "language_info": {
   "codemirror_mode": {
    "name": "ipython",
    "version": 3
   },
   "file_extension": ".py",
   "mimetype": "text/x-python",
   "name": "python",
   "nbconvert_exporter": "python",
   "pygments_lexer": "ipython3",
   "version": "3.7.12"
  },
  "papermill": {
   "default_parameters": {},
   "duration": 47.877079,
   "end_time": "2023-04-25T15:41:19.247344",
   "environment_variables": {},
   "exception": null,
   "input_path": "__notebook__.ipynb",
   "output_path": "__notebook__.ipynb",
   "parameters": {},
   "start_time": "2023-04-25T15:40:31.370265",
   "version": "2.3.4"
  }
 },
 "nbformat": 4,
 "nbformat_minor": 5
}
